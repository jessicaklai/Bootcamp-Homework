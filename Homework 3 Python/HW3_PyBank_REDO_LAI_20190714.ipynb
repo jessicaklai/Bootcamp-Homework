{
 "cells": [
  {
   "cell_type": "markdown",
   "metadata": {},
   "source": [
    "## PyBank\n",
    "\n",
    "• In this challenge, you are tasked with creating a Python script for analyzing the financial records \n",
    "of your company. You will give a set of financial data called budget_data.csv. The dataset is composed \n",
    "of two columns: Date and Profit/Losses. (Thankfully, your company has rather lax standards for \n",
    "accounting so the records are simple.)\n",
    "\n",
    "• Your task is to create a Python script that analyzes the records to calculate each of the following:\n",
    "\n",
    "o The total number of months included in the dataset\n",
    "o The net total amount of \"Profit/Losses\" over the entire period\n",
    "o The average of the changes in \"Profit/Losses\" over the entire period\n",
    "o The greatest increase in profits (date and amount) over the entire period \n",
    "o The greatest decrease in losses (date and amount) over the entire period\n",
    "\n",
    "• As an example, your analysis should look similar to the one below:\n",
    "\n",
    "Financial Analysis\n",
    "----------------------------\n",
    "#Total Months: 86\n",
    "#Total: $38382578\n",
    "#Average Change: $-2315.12\n",
    "#Greatest Increase in Profits: Feb-2012 ($1926159)\n",
    "#Greatest Decrease in Profits: Sep-2013 ($-2196167)\n",
    "\n",
    "In addition, your final script should both print the analysis to the terminal and export a\n",
    "text file with the results."
   ]
  },
  {
   "cell_type": "code",
   "execution_count": 406,
   "metadata": {},
   "outputs": [],
   "source": [
    "# Import dependencies\n",
    "import csv\n",
    "import os"
   ]
  },
  {
   "cell_type": "code",
   "execution_count": 407,
   "metadata": {},
   "outputs": [],
   "source": [
    "pybank = os.path.join(\"budget-data.csv\")"
   ]
  },
  {
   "cell_type": "code",
   "execution_count": 408,
   "metadata": {},
   "outputs": [],
   "source": [
    "# Create lists to store info\n",
    "months = []\n",
    "# for something I attempted, but didn't work: revenue_index = []\n",
    "pnl_changes = []\n",
    "revenue=[]\n",
    "\n",
    "# For CSV File\n",
    "csv_total_months = []\n",
    "csv_net_total = [] \n",
    "csv_avg_change = [] \n",
    "csv_greatest_profit =[] \n",
    "csv_greatest_loss =[] "
   ]
  },
  {
   "cell_type": "code",
   "execution_count": 409,
   "metadata": {},
   "outputs": [],
   "source": [
    "with open (pybank, newline=\"\") as csvfile:\n",
    "    csvreader = csv.reader(csvfile, delimiter=\",\")\n",
    "    header = next(csvreader, None)\n",
    "    \n",
    "    for row in csvreader:\n",
    "        # Gather months and revenues to lists and \n",
    "        months.append(row[0])\n",
    "        revenue.append(int(row[1]))\n",
    "\n",
    "        # I used this method for PyPoll to index the candidates/vote counts, so I \n",
    "        # tried to use it here to get sum of months while tying them to monthly revenue; \n",
    "        # figured I could use this for printing largest profit and largest loss. \n",
    "        # But I couldn't get this to work.\n",
    "        #revenue = row[1]\n",
    "        #if revenue in revenue_index:\n",
    "            #month_index = revenues_index.index(revenue)\n",
    "            #months[revenues_index] += 1\n",
    "            \n",
    "            \n",
    "        change = int(row[1]) - int(monthly_change)\n",
    "        monthly_change = row[1]\n",
    "        pnl_changes.append(change)\n",
    "        #print(pnl_changes)\n",
    "\n",
    "# Greatest loss and profit\n",
    "greatest_profit = max(pnl_changes)\n",
    "csv_greatest_profit.append(greatest_profit)\n",
    "#print(\"Greatest prof: \" + str(greatest_profit))\n",
    "greatest_loss = min(pnl_changes)    \n",
    "csv_greatest_loss.append(greatest_loss)\n",
    "#print(\"Greatest loss: \" + str(greatest_loss))\n",
    "\n",
    "# Net total of revenue\n",
    "net_total = sum(revenue)\n",
    "csv_net_total.append(net_total)\n",
    "#print(\"Net total: \" + str(net_total))\n",
    "\n",
    "# Total months\n",
    "total_months = len(months)\n",
    "csv_total_months.append(total_months)\n",
    "#print(\"Total Months: \" + str(total_months))\n",
    "\n",
    "# Average change\n",
    "del pnl_changes[0]\n",
    "#print(\"PNL Changes: \" + str(pnl_changes))\n",
    "\n",
    "sum_changes = sum(pnl_changes)\n",
    "#print(\"Sum Change: \" + str(sum_changes))\n",
    "\n",
    "avg_change = round(sum_changes / len(pnl_changes),2)\n",
    "csv_avg_change.append(avg_change)\n",
    "#print(\"Average Change: \" + str(avg_change))"
   ]
  },
  {
   "cell_type": "code",
   "execution_count": 410,
   "metadata": {},
   "outputs": [
    {
     "name": "stdout",
     "output_type": "stream",
     "text": [
      "Financial Analysis\n",
      "-----------------------------\n",
      "Total Months: 86\n",
      "Total: $38382578\n",
      "Average Change: $-2315.12\n",
      "Greatest Increase in Profits: $1926159\n",
      "Greatest Decrease in Profits: $-2196167\n"
     ]
    }
   ],
   "source": [
    "print(\"Financial Analysis\")\n",
    "print(\"-----------------------------\")\n",
    "print(\"Total Months: \" + str(total_months))\n",
    "print(\"Total: $\" + str(net_total))\n",
    "print(\"Average Change: $\" + str(avg_change))\n",
    "# JESS NOTES: Tried different variations to get respective months to print but it didn't work \n",
    "print(\"Greatest Increase in Profits: $\" + str(greatest_profit))\n",
    "print(\"Greatest Decrease in Profits: $\" + str(greatest_loss))"
   ]
  },
  {
   "cell_type": "code",
   "execution_count": 411,
   "metadata": {},
   "outputs": [],
   "source": [
    "# Zip and create output file\n",
    "\n",
    "clean_csv = zip(csv_total_months, csv_net_total, csv_avg_change, csv_greatest_profit, csv_greatest_loss)\n",
    "\n",
    "output_file = os.path.join(\"PyBank_Analysis.csv\")\n",
    "\n",
    "with open(output_file, \"w\", newline=\"\") as datafile:\n",
    "    writer = csv.writer(datafile)\n",
    "    \n",
    "    writer.writerow([\"Total Months\", \"Total\", \"Average Change\", \"Greatest Increase in Profits\", \"Greatest Decrease in Profits\"])\n",
    "    \n",
    "    writer.writerows(clean_csv)"
   ]
  },
  {
   "cell_type": "code",
   "execution_count": null,
   "metadata": {},
   "outputs": [],
   "source": []
  }
 ],
 "metadata": {
  "kernelspec": {
   "display_name": "Python [conda env:PythonData]",
   "language": "python",
   "name": "conda-env-PythonData-py"
  },
  "language_info": {
   "codemirror_mode": {
    "name": "ipython",
    "version": 3
   },
   "file_extension": ".py",
   "mimetype": "text/x-python",
   "name": "python",
   "nbconvert_exporter": "python",
   "pygments_lexer": "ipython3",
   "version": "3.6.8"
  }
 },
 "nbformat": 4,
 "nbformat_minor": 2
}
