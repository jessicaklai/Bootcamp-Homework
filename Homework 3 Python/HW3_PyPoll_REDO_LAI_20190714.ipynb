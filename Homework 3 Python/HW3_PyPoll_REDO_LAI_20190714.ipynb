{
 "cells": [
  {
   "cell_type": "markdown",
   "metadata": {},
   "source": [
    "## PyPoll\n",
    "• In this challenge, you are tasked with helping a small, rural town modernize its vote- counting process. (Up until now, Uncle Cleetus had been trustfully tallying them one-by- one, but unfortunately, his \n",
    "concentration isn't what it used to be.)\n",
    "\n",
    "• You will be give a set of poll data called election_data.csv. The dataset is composed of three columns: \n",
    "Voter ID, County, and Candidate. Your task is to create a Python script that analyzes the votes and calculates each of the following:\n",
    "\n",
    "o The total number of votes cast\n",
    "o A complete list of candidates who received votes \n",
    "o The percentage of votes each candidate won\n",
    "o The total number of votes each candidate won\n",
    "o The winner of the election based on popular vote.\n",
    "\n",
    "• As an example, your analysis should look similar to the one below:\n",
    "• Election Results\n",
    "• -------------------------\n",
    "• Total Votes: \"3521001\"\n",
    "• -------------------------\n",
    "• Khan: 63.000% (2218231)\n",
    "• Correy: 20.000% (704200)\n",
    "• Li: 14.000% (492940)\n",
    "• O'Tooley: 3.000% (105630)\n",
    "• -------------------------\n",
    "• Winner: Khan\n",
    "• -------------------------\n",
    "\n",
    "• In addition, your final script should both print the analysis to the terminal and export a\n",
    "text file with the results."
   ]
  },
  {
   "cell_type": "code",
   "execution_count": 116,
   "metadata": {},
   "outputs": [],
   "source": [
    "# Import dependencies\n",
    "import csv\n",
    "import os"
   ]
  },
  {
   "cell_type": "code",
   "execution_count": 117,
   "metadata": {},
   "outputs": [],
   "source": [
    "file = os.path.join(\"election_data.csv\")"
   ]
  },
  {
   "cell_type": "code",
   "execution_count": 118,
   "metadata": {},
   "outputs": [],
   "source": [
    "# Create lists\n",
    "candidates = []\n",
    "vote_counts = []\n",
    "percentages = []\n",
    "number_votes = 0"
   ]
  },
  {
   "cell_type": "code",
   "execution_count": 124,
   "metadata": {},
   "outputs": [
    {
     "name": "stdout",
     "output_type": "stream",
     "text": [
      "Counted and bucketed\n"
     ]
    }
   ],
   "source": [
    "with open(file, newline=\"\") as csvfile:\n",
    "    csvreader = csv.reader(csvfile)\n",
    "    next(csvreader,None)\n",
    "    \n",
    "    for row in csvreader:\n",
    "        \n",
    "        # Count up votes and candidate\n",
    "        candidate = row[2]\n",
    "        number_votes = number_votes + 1\n",
    "        # Wanted to try and do a print statement here, but didn't want to loop print,\n",
    "        # so I tried making print statement outside of loop, but it messed up the rest of \n",
    "        # of my indentation.\n",
    "        \n",
    "        # Tally up votes of candidates and create a complete list\n",
    "        if candidate in candidates:\n",
    "            candidate_index = candidates.index(candidate)\n",
    "            vote_counts[candidate_index] += 1\n",
    "        else:\n",
    "            candidates.append(candidate)\n",
    "            vote_counts.append(1)\n",
    "print(\"Counted and bucketed\")"
   ]
  },
  {
   "cell_type": "code",
   "execution_count": 121,
   "metadata": {},
   "outputs": [
    {
     "name": "stdout",
     "output_type": "stream",
     "text": [
      "7042002\n",
      "['Khan', 'Correy', 'Li', \"O'Tooley\"]\n",
      "[4436462, 1408400, 985880, 211260]\n"
     ]
    }
   ],
   "source": [
    "print(number_votes)\n",
    "print(candidates)\n",
    "print(vote_counts)"
   ]
  },
  {
   "cell_type": "code",
   "execution_count": 122,
   "metadata": {},
   "outputs": [
    {
     "name": "stdout",
     "output_type": "stream",
     "text": [
      "63\n",
      "20\n",
      "14\n",
      "3\n"
     ]
    }
   ],
   "source": [
    "# Determine vote percentage\n",
    "# Khan\n",
    "khan_percent = vote_counts[0]/number_votes *100\n",
    "print(round(khan_percent))\n",
    "percentages.append(round(khan_percent))\n",
    "# Correy\n",
    "correy_percent = vote_counts[1]/number_votes *100\n",
    "print(round(correy_percent))\n",
    "percentages.append(round(correy_percent))\n",
    "# Li\n",
    "li_percent = vote_counts[2]/number_votes *100\n",
    "print(round(li_percent))\n",
    "percentages.append(round(li_percent))\n",
    "# O'Tooley\n",
    "otooley_percent = vote_counts[3]/number_votes *100\n",
    "print(round(otooley_percent))\n",
    "percentages.append(round(otooley_percent))"
   ]
  },
  {
   "cell_type": "code",
   "execution_count": 123,
   "metadata": {},
   "outputs": [
    {
     "name": "stdout",
     "output_type": "stream",
     "text": [
      "Election Results\n",
      "-------------------------\n",
      "Total Votes: 7042002\n",
      "-------------------------\n",
      "Khan: 63% (4436462)\n",
      "Correy: 20% (1408400)\n",
      "Li: 14% (985880)\n",
      "O'Tooley: 3% (211260)\n",
      "-------------------------\n",
      "Winner: Khan\n"
     ]
    }
   ],
   "source": [
    "print(\"Election Results\")\n",
    "print(\"-------------------------\")\n",
    "print(\"Total Votes: \" + str(number_votes))\n",
    "print(\"-------------------------\")\n",
    "print(\"Khan: \" + str(round(khan_percent)) + \"%\" + \" (\" + str(vote_counts[0]) + \")\")\n",
    "print(\"Correy: \" + str(round(correy_percent)) + \"%\" + \" (\" + str(vote_counts[1]) + \")\")\n",
    "print(\"Li: \" + str(round(li_percent)) + \"%\" + \" (\" + str(vote_counts[2]) + \")\")\n",
    "print(\"O'Tooley: \"+ str(round(otooley_percent)) + \"%\" + \" (\" + str(vote_counts[3]) + \")\")\n",
    "print(\"-------------------------\")\n",
    "print(\"Winner: Khan\")"
   ]
  },
  {
   "cell_type": "code",
   "execution_count": 115,
   "metadata": {},
   "outputs": [],
   "source": [
    "# Clean up and create output csv\n",
    "cleaned_csv = zip(vote_counts, percentages, candidates)\n",
    "\n",
    "# Set variable for output file\n",
    "output_file = os.path.join(\"PyPoll_WinnerFile.csv\")\n",
    "\n",
    "# Open output file\n",
    "with open(output_file, \"w\", newline=\"\") as datafile:\n",
    "    writer = csv.writer(datafile)\n",
    "    \n",
    "    # Write the header row\n",
    "    writer.writerow([\"Total Votes\", \"Candidate\", \"Vote Percentage\"])\n",
    "    \n",
    "    # Write in zipped rows\n",
    "    writer.writerows(cleaned_csv)"
   ]
  },
  {
   "cell_type": "code",
   "execution_count": null,
   "metadata": {},
   "outputs": [],
   "source": []
  }
 ],
 "metadata": {
  "kernelspec": {
   "display_name": "Python [conda env:PythonData]",
   "language": "python",
   "name": "conda-env-PythonData-py"
  },
  "language_info": {
   "codemirror_mode": {
    "name": "ipython",
    "version": 3
   },
   "file_extension": ".py",
   "mimetype": "text/x-python",
   "name": "python",
   "nbconvert_exporter": "python",
   "pygments_lexer": "ipython3",
   "version": "3.6.8"
  }
 },
 "nbformat": 4,
 "nbformat_minor": 2
}
